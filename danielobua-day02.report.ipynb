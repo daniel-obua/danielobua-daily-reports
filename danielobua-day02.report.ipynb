{
 "cells": [
  {
   "cell_type": "markdown",
   "id": "426486dd",
   "metadata": {
    "id": "426486dd"
   },
   "source": [
    "\n",
    "\n",
    "# Practical_1: Variables and Assignments"
   ]
  },
  {
   "cell_type": "code",
   "execution_count": null,
   "id": "60821fcc-3c82-4b25-9e35-01d05a7d64fb",
   "metadata": {
    "id": "9fb19f0d"
   },
   "outputs": [],
   "source": [
    "----\n",
    "\n",
    "### Exercise 1:\n",
    "Declare a variable `x` and assign it the value `10`.\n",
    "\n",
    "```python\n",
    "# Exercise 1\n",
    "```"
   ]
  },
  {
   "cell_type": "code",
   "execution_count": 3,
   "id": "d156411c-3c13-4efb-92ca-b938d6634d0a",
   "metadata": {},
   "outputs": [
    {
     "name": "stdout",
     "output_type": "stream",
     "text": [
      "10\n"
     ]
    }
   ],
   "source": [
    "x=10\n",
    "print(x)"
   ]
  },
  {
   "cell_type": "code",
   "execution_count": 4,
   "id": "5c17e076-0266-4d36-8515-40b040d11472",
   "metadata": {},
   "outputs": [
    {
     "data": {
      "text/plain": [
       "int"
      ]
     },
     "execution_count": 4,
     "metadata": {},
     "output_type": "execute_result"
    }
   ],
   "source": [
    "type(x)"
   ]
  },
  {
   "cell_type": "markdown",
   "id": "146f9396-ef96-4f0f-948e-c942d3f0ea17",
   "metadata": {
    "id": "9fb19f0d"
   },
   "source": [
    "---\n",
    "\n",
    "### Exercise 2:\n",
    "Assign the value `True` to a variable called `is_valid`."
   ]
  },
  {
   "cell_type": "code",
   "execution_count": 22,
   "id": "baaa84ef-8f36-4cdf-95c8-29e3c620d2ea",
   "metadata": {},
   "outputs": [
    {
     "name": "stdout",
     "output_type": "stream",
     "text": [
      "true\n"
     ]
    }
   ],
   "source": [
    "is_valid = 'true'\n",
    "print(is_valid)"
   ]
  },
  {
   "cell_type": "markdown",
   "id": "106f86c1-fad8-46b4-85ac-ce35c5719f11",
   "metadata": {
    "id": "9fb19f0d"
   },
   "source": [
    "### Exercise 3:\n",
    "Create a string variable `name` with the value \"Python Programming\".\n",
    "```python\n",
    "# Exercise 3\n",
    "```"
   ]
  },
  {
   "cell_type": "code",
   "execution_count": 5,
   "id": "6133045e-b2b3-48ca-8fbf-b4588efe23de",
   "metadata": {},
   "outputs": [
    {
     "name": "stdout",
     "output_type": "stream",
     "text": [
      "python programing\n"
     ]
    }
   ],
   "source": [
    "name = 'python programing'\n",
    "print(name)"
   ]
  },
  {
   "cell_type": "code",
   "execution_count": 6,
   "id": "0d30e0f5-1729-469e-abe5-3781d59bc677",
   "metadata": {},
   "outputs": [
    {
     "data": {
      "text/plain": [
       "str"
      ]
     },
     "execution_count": 6,
     "metadata": {},
     "output_type": "execute_result"
    }
   ],
   "source": [
    "type(name)"
   ]
  },
  {
   "cell_type": "markdown",
   "id": "0cd8b6ea-b1a6-461e-a701-ef60e79693fb",
   "metadata": {
    "id": "9fb19f0d"
   },
   "source": [
    "---\n",
    "\n",
    "### Exercise 4:\n",
    "Assign the result of `5 + 3` to a variable `sum_result`.\n",
    "\n",
    "```python\n",
    "# Exercise 4\n",
    "```"
   ]
  },
  {
   "cell_type": "code",
   "execution_count": 10,
   "id": "854cff39-fce8-439c-b3c1-2115ca56b16e",
   "metadata": {},
   "outputs": [
    {
     "name": "stdout",
     "output_type": "stream",
     "text": [
      "8\n"
     ]
    }
   ],
   "source": [
    "h= 5+3\n",
    "print(h)"
   ]
  },
  {
   "cell_type": "code",
   "execution_count": 11,
   "id": "afe71143-a69b-46a2-ad8c-1c56027987fa",
   "metadata": {},
   "outputs": [
    {
     "data": {
      "text/plain": [
       "int"
      ]
     },
     "execution_count": 11,
     "metadata": {},
     "output_type": "execute_result"
    }
   ],
   "source": [
    "type(h)"
   ]
  },
  {
   "cell_type": "code",
   "execution_count": null,
   "id": "4c0472aa-aeab-4bd8-99c3-df30ad92b87a",
   "metadata": {
    "id": "9fb19f0d"
   },
   "outputs": [],
   "source": [
    "---\n",
    "\n",
    "### Exercise 5:\n",
    "Assign multiple variables in one line: `a = 5`, `b = 10`, `c = 15`.\n",
    "\n",
    "```python\n",
    "# Exercise 5\n",
    "```"
   ]
  },
  {
   "cell_type": "code",
   "execution_count": 16,
   "id": "82448a18-543e-4b10-bafe-92e22146d335",
   "metadata": {},
   "outputs": [
    {
     "name": "stdout",
     "output_type": "stream",
     "text": [
      "5 10 15\n"
     ]
    }
   ],
   "source": [
    "a,b,c = 5,10,15\n",
    "print(a,b,c)"
   ]
  },
  {
   "cell_type": "code",
   "execution_count": 17,
   "id": "a64cc88d-de38-4400-b41e-59e5baa43819",
   "metadata": {},
   "outputs": [
    {
     "name": "stdout",
     "output_type": "stream",
     "text": [
      "5\n",
      "10\n",
      "15\n"
     ]
    }
   ],
   "source": [
    "print(a)\n",
    "print(b)\n",
    "print(c)"
   ]
  },
  {
   "cell_type": "markdown",
   "id": "10898ec7-a296-40cb-8444-3caae1e0fd46",
   "metadata": {
    "id": "9fb19f0d"
   },
   "source": [
    "---\n",
    "\n",
    "### Exercise 6:\n",
    "Assign the value of one variable `x` to another variable `y`.\n",
    "\n",
    "```python\n",
    "# Exercise 6\n",
    "```"
   ]
  },
  {
   "cell_type": "code",
   "execution_count": 19,
   "id": "9a7c8fb1-c62f-4f24-8f6c-c0a2331e3b24",
   "metadata": {},
   "outputs": [
    {
     "name": "stdout",
     "output_type": "stream",
     "text": [
      "10\n"
     ]
    }
   ],
   "source": [
    "x=y=10\n",
    "print(x)"
   ]
  },
  {
   "cell_type": "markdown",
   "id": "717704c5-4e41-4b38-8855-b2a269e2c2eb",
   "metadata": {
    "id": "9fb19f0d"
   },
   "source": [
    "---\n",
    "\n",
    "### Exercise 7:\n",
    "Assign a floating-point number `9.8` to a variable `gravity`.\n",
    "\n",
    "```python\n",
    "# Exercise 7\n",
    "```"
   ]
  },
  {
   "cell_type": "code",
   "execution_count": 23,
   "id": "a5c9fb81-3079-4240-b1fc-52156752630e",
   "metadata": {},
   "outputs": [
    {
     "name": "stdout",
     "output_type": "stream",
     "text": [
      "<class 'float'> 9.8\n"
     ]
    }
   ],
   "source": [
    "gravity= 9.8\n",
    "print(type(gravity),gravity)"
   ]
  },
  {
   "cell_type": "code",
   "execution_count": 24,
   "id": "288c3b50-6b43-4468-ae15-d45681ffd865",
   "metadata": {},
   "outputs": [
    {
     "name": "stdout",
     "output_type": "stream",
     "text": [
      "9.8 <class 'float'>\n"
     ]
    }
   ],
   "source": [
    "print(gravity,type(gravity))"
   ]
  },
  {
   "cell_type": "markdown",
   "id": "f908203e-ec59-47d5-9fa6-dcd257bb80ef",
   "metadata": {
    "id": "9fb19f0d"
   },
   "source": [
    "---\n",
    "\n",
    "### Exercise 8:\n",
    "Create a variable `country` and assign it the string value of your favorite country.\n",
    "\n",
    "```python\n",
    "# Exercise 8\n",
    "```"
   ]
  },
  {
   "cell_type": "code",
   "execution_count": 25,
   "id": "9a16613f-e045-42e2-a6d1-61667751c4e3",
   "metadata": {},
   "outputs": [
    {
     "name": "stdout",
     "output_type": "stream",
     "text": [
      "Uganda <class 'str'>\n"
     ]
    }
   ],
   "source": [
    "country= 'Uganda'\n",
    "print(country,type(country))"
   ]
  },
  {
   "cell_type": "markdown",
   "id": "24465f5e-35b2-40c0-8b29-2babd590ba52",
   "metadata": {
    "id": "9fb19f0d"
   },
   "source": [
    "---\n",
    "\n",
    "### Exercise 9:\n",
    "Change the value of variable `age` from `25` to `26` in two separate steps.\n",
    "\n",
    "```python\n",
    "# Exercise 9\n",
    "```"
   ]
  },
  {
   "cell_type": "code",
   "execution_count": 26,
   "id": "8fbe73f4-db46-436f-afc5-b2df556aeb20",
   "metadata": {},
   "outputs": [
    {
     "name": "stdout",
     "output_type": "stream",
     "text": [
      "(25, 26)\n"
     ]
    }
   ],
   "source": [
    "age=25,26\n",
    "print(age)"
   ]
  },
  {
   "cell_type": "code",
   "execution_count": 27,
   "id": "c40c2c8c-b134-410f-a3dd-aaab1afc6d40",
   "metadata": {},
   "outputs": [
    {
     "name": "stdout",
     "output_type": "stream",
     "text": [
      "(26, 25)\n"
     ]
    }
   ],
   "source": [
    "age =26,25\n",
    "print(age)"
   ]
  },
  {
   "cell_type": "markdown",
   "id": "38f7c44a-c4b8-4cb3-9ab6-50b771941bf4",
   "metadata": {
    "id": "9fb19f0d"
   },
   "source": [
    "---\n",
    "\n",
    "### Exercise 10:\n",
    "Use one variable to store the result of subtracting two numbers `20 - 7`.\n",
    "\n",
    "```python\n",
    "# Exercise 10\n",
    "```"
   ]
  },
  {
   "cell_type": "code",
   "execution_count": 28,
   "id": "5ef1fde6-3322-4a9f-a615-5f40ea0909f1",
   "metadata": {},
   "outputs": [
    {
     "name": "stdout",
     "output_type": "stream",
     "text": [
      "13\n"
     ]
    }
   ],
   "source": [
    "v=20-7\n",
    "print(v)"
   ]
  },
  {
   "cell_type": "markdown",
   "id": "0dbfe5d4-d714-473e-83a3-1a5f56d98831",
   "metadata": {
    "id": "9fb19f0d"
   },
   "source": [
    "---\n",
    "\n",
    "### Exercise 11:\n",
    "Assign an integer value and a floating-point value to two different variables.\n",
    "\n",
    "```python\n",
    "# Exercise 11\n",
    "```"
   ]
  },
  {
   "cell_type": "code",
   "execution_count": 31,
   "id": "11e5390d-9c2c-4a24-969a-35d83b716843",
   "metadata": {},
   "outputs": [
    {
     "name": "stdout",
     "output_type": "stream",
     "text": [
      "2 <class 'int'>\n",
      "2.8 <class 'float'>\n"
     ]
    }
   ],
   "source": [
    "p=2\n",
    "q=2.8\n",
    "print(p,type(p))\n",
    "print(q,type(q))"
   ]
  },
  {
   "cell_type": "markdown",
   "id": "231b6061-bf03-4632-a167-fa53f80a1dfe",
   "metadata": {
    "id": "9fb19f0d"
   },
   "source": [
    "---\n",
    "\n",
    "### Exercise 12:\n",
    "Assign a boolean value `False` to a variable `is_completed`.\n",
    "\n",
    "```python\n",
    "# Exercise 12\n",
    "```"
   ]
  },
  {
   "cell_type": "code",
   "execution_count": 35,
   "id": "e71d8287-f3a2-42cd-99a8-de96fd95c9ba",
   "metadata": {},
   "outputs": [
    {
     "name": "stdout",
     "output_type": "stream",
     "text": [
      "False\n"
     ]
    }
   ],
   "source": [
    "is_completed= False\n",
    "print( is_completed)\n"
   ]
  },
  {
   "cell_type": "markdown",
   "id": "8098ecad-ff69-4b3b-808c-c7a52087a6e4",
   "metadata": {
    "id": "9fb19f0d"
   },
   "source": [
    "---\n",
    "\n",
    "### Exercise 13:\n",
    "Swap the values of two variables `x` and `y`.\n",
    "\n",
    "```python\n",
    "# Exercise 13\n",
    "```"
   ]
  },
  {
   "cell_type": "code",
   "execution_count": 36,
   "id": "f4c40a18-3667-4fd4-aaab-5f1ed56d1e52",
   "metadata": {},
   "outputs": [
    {
     "name": "stdout",
     "output_type": "stream",
     "text": [
      "12\n"
     ]
    }
   ],
   "source": [
    "x=12\n",
    "b=x\n",
    "y=b\n",
    "print(y)"
   ]
  },
  {
   "cell_type": "markdown",
   "id": "dd9110bd-d305-402e-b81f-dcdbee74e78e",
   "metadata": {
    "id": "9fb19f0d"
   },
   "source": [
    "---\n",
    "\n",
    "### Exercise 14:\n",
    "Assign a complex number `3 + 4j` to a variable `complex_num`.\n",
    "\n",
    "```python\n",
    "# Exercise 14\n",
    "```"
   ]
  },
  {
   "cell_type": "code",
   "execution_count": 37,
   "id": "4d45711e-9106-4f55-acd6-157549c32084",
   "metadata": {},
   "outputs": [
    {
     "name": "stdout",
     "output_type": "stream",
     "text": [
      "(3+4j) <class 'complex'>\n"
     ]
    }
   ],
   "source": [
    "complex_num = 3+4j\n",
    "print(complex_num,type(complex_num))"
   ]
  },
  {
   "cell_type": "markdown",
   "id": "b38dc2a6-dc93-4d8b-9406-8bad1eac1254",
   "metadata": {
    "id": "9fb19f0d"
   },
   "source": [
    "---\n",
    "\n",
    "### Exercise 15:\n",
    "Reassign a variable from an integer to a string.\n",
    "\n",
    "```python\n",
    "# Exercise 15\n",
    "```"
   ]
  },
  {
   "cell_type": "code",
   "execution_count": 39,
   "id": "5c356a08-216f-4718-a103-fb5231cb1374",
   "metadata": {},
   "outputs": [
    {
     "name": "stdout",
     "output_type": "stream",
     "text": [
      "3 <class 'str'>\n"
     ]
    }
   ],
   "source": [
    "x=3\n",
    "p= str(x)\n",
    "print(p,type(p))"
   ]
  },
  {
   "cell_type": "markdown",
   "id": "10cd8b0e-e0bd-41b5-87ed-873eaff8d689",
   "metadata": {
    "id": "9fb19f0d"
   },
   "source": [
    "---\n",
    "\n",
    "### Exercise 16:\n",
    "Create two variables `first_name` and `last_name`, and assign them your first and last names.\n",
    "\n",
    "```python\n",
    "# Exercise 16\n",
    "```"
   ]
  },
  {
   "cell_type": "code",
   "execution_count": 40,
   "id": "780ddfdc-4c31-46a7-86ba-be6863415a40",
   "metadata": {},
   "outputs": [
    {
     "name": "stdout",
     "output_type": "stream",
     "text": [
      "Obua Daniel\n"
     ]
    }
   ],
   "source": [
    " first_name = 'Obua'\n",
    " last_name=  'Daniel'\n",
    "print(first_name,last_name)"
   ]
  },
  {
   "cell_type": "markdown",
   "id": "93353caf-d07e-426c-ad8f-9130ee190d57",
   "metadata": {
    "id": "9fb19f0d"
   },
   "source": [
    "---\n",
    "\n",
    "### Exercise 17:\n",
    "Create a variable `temperature` and assign it the value of `35.5`.\n",
    "\n",
    "```python\n",
    "# Exercise 17\n",
    "```"
   ]
  },
  {
   "cell_type": "code",
   "execution_count": 41,
   "id": "86f15b2f-808b-447f-98d6-13bc06336e46",
   "metadata": {},
   "outputs": [
    {
     "name": "stdout",
     "output_type": "stream",
     "text": [
      "35.5 <class 'float'>\n"
     ]
    }
   ],
   "source": [
    "temperature = 35.5\n",
    "print(temperature,type(temperature))"
   ]
  },
  {
   "cell_type": "markdown",
   "id": "56bd6791-2ebd-4d0b-a8d5-d1eafa4d5487",
   "metadata": {
    "id": "9fb19f0d"
   },
   "source": [
    "---\n",
    "\n",
    "### Exercise 18:\n",
    "Assign the result of the multiplication of two numbers `8 * 6` to a variable `product`.\n",
    "\n",
    "```python\n",
    "# Exercise 18\n",
    "```"
   ]
  },
  {
   "cell_type": "code",
   "execution_count": 42,
   "id": "ede25bab-0675-495d-9963-140a7ba7b799",
   "metadata": {},
   "outputs": [
    {
     "name": "stdout",
     "output_type": "stream",
     "text": [
      "48\n"
     ]
    }
   ],
   "source": [
    "j= 8*6\n",
    "print(j)"
   ]
  },
  {
   "cell_type": "markdown",
   "id": "eca21dad-cbc1-492d-b3cc-e729a24ed152",
   "metadata": {
    "id": "9fb19f0d"
   },
   "source": [
    "---\n",
    "\n",
    "### Exercise 19:\n",
    "Assign a sentence of your choice to a variable `sentence`.\n",
    "\n",
    "```python\n",
    "# Exercise 19\n",
    "```"
   ]
  },
  {
   "cell_type": "code",
   "execution_count": 43,
   "id": "c808550e-f9ab-43d5-88b4-e577f8093532",
   "metadata": {},
   "outputs": [
    {
     "name": "stdout",
     "output_type": "stream",
     "text": [
      "Obua doesnot like stress\n"
     ]
    }
   ],
   "source": [
    "sentence='Obua doesnot like stress'\n",
    "print(sentence)"
   ]
  },
  {
   "cell_type": "markdown",
   "id": "8d0fc5ee-1332-4234-aba9-a5d13ed19c86",
   "metadata": {
    "id": "9fb19f0d"
   },
   "source": [
    "---\n",
    "\n",
    "### Exercise 20:\n",
    "Use an assignment to convert a string `'50'` into an integer variable `int_value`.\n",
    "\n",
    "```python\n",
    "# Exercise 20\n",
    "```"
   ]
  },
  {
   "cell_type": "code",
   "execution_count": 44,
   "id": "7e2777f9-e068-4884-8279-b86d88a7e4c1",
   "metadata": {},
   "outputs": [
    {
     "name": "stdout",
     "output_type": "stream",
     "text": [
      "50\n"
     ]
    }
   ],
   "source": [
    "int_value=50\n",
    "t=int(50)\n",
    "print(t)"
   ]
  },
  {
   "cell_type": "markdown",
   "id": "4502d013-25aa-4e06-945f-9ee6940f3d80",
   "metadata": {
    "id": "9fb19f0d"
   },
   "source": [
    "---\n",
    "\n",
    "### Exercise 21:\n",
    "Assign the result of dividing `144` by `12` to a variable `quotient`.\n",
    "\n",
    "```python\n",
    "# Exercise 21\n",
    "```"
   ]
  },
  {
   "cell_type": "code",
   "execution_count": 45,
   "id": "702fb672-abf0-4045-a7e4-7f93b556774e",
   "metadata": {},
   "outputs": [
    {
     "name": "stdout",
     "output_type": "stream",
     "text": [
      "12.0\n"
     ]
    }
   ],
   "source": [
    "quotient= 144/12\n",
    "print(quotient)"
   ]
  },
  {
   "cell_type": "code",
   "execution_count": 46,
   "id": "ff41f633-c3f4-49a1-9f75-5e8ff4fb5220",
   "metadata": {},
   "outputs": [
    {
     "name": "stdout",
     "output_type": "stream",
     "text": [
      "12\n"
     ]
    }
   ],
   "source": [
    "print(int(quotient))"
   ]
  },
  {
   "cell_type": "markdown",
   "id": "606a5ae6-5684-49db-b259-6f091f685f7e",
   "metadata": {
    "id": "9fb19f0d"
   },
   "source": [
    "---\n",
    "\n",
    "### Exercise 22:\n",
    "Assign the remainder of `47 divided by 5` to a variable `remainder`.\n",
    "\n",
    "```python\n",
    "# Exercise 22\n",
    "```"
   ]
  },
  {
   "cell_type": "code",
   "execution_count": 49,
   "id": "6c08f6ee-19c7-4aec-b74a-ee3090b70a9c",
   "metadata": {},
   "outputs": [
    {
     "name": "stdout",
     "output_type": "stream",
     "text": [
      "2\n"
     ]
    }
   ],
   "source": [
    "remainder=47%5\n",
    "print(remainder)"
   ]
  },
  {
   "cell_type": "markdown",
   "id": "39699994-cfcb-416a-8c44-9f16460f6d8a",
   "metadata": {
    "id": "9fb19f0d"
   },
   "source": [
    "---\n",
    "\n",
    "### Exercise 23:\n",
    "Create a variable `is_student` and assign it the value `True`.\n",
    "\n",
    "```python\n",
    "# Exercise 23\n",
    "```"
   ]
  },
  {
   "cell_type": "code",
   "execution_count": 51,
   "id": "81569f50-a632-4c19-b55e-a491cba20fe4",
   "metadata": {},
   "outputs": [
    {
     "name": "stdout",
     "output_type": "stream",
     "text": [
      "True\n"
     ]
    }
   ],
   "source": [
    "is_student = True\n",
    "print(is_student)\n"
   ]
  },
  {
   "cell_type": "markdown",
   "id": "5385897e-2638-4e3f-a20a-dde16c58e1d9",
   "metadata": {
    "id": "9fb19f0d"
   },
   "source": [
    "---\n",
    "\n",
    "### Exercise 24:\n",
    "Use a variable to store the result of a modulo operation: `45 % 4`.\n",
    "\n",
    "```python\n",
    "# Exercise 24\n",
    "```"
   ]
  },
  {
   "cell_type": "code",
   "execution_count": 52,
   "id": "2d99fe89-2b58-42cf-be96-9eca465aa268",
   "metadata": {},
   "outputs": [
    {
     "name": "stdout",
     "output_type": "stream",
     "text": [
      "1\n"
     ]
    }
   ],
   "source": [
    "v= 45%4\n",
    "print(v)"
   ]
  },
  {
   "cell_type": "markdown",
   "id": "ad9c1500-5e3d-48c9-8417-dade4ad4ecbb",
   "metadata": {
    "id": "9fb19f0d"
   },
   "source": [
    "---\n",
    "\n",
    "### Exercise 25:\n",
    "Create a variable `pi` and assign it the value `3.14159`.\n",
    "\n",
    "```python\n",
    "# Exercise 25\n",
    "```"
   ]
  },
  {
   "cell_type": "code",
   "execution_count": 53,
   "id": "8b468738-9932-4abe-b640-518abb08342b",
   "metadata": {},
   "outputs": [
    {
     "name": "stdout",
     "output_type": "stream",
     "text": [
      "3.14159 <class 'float'>\n"
     ]
    }
   ],
   "source": [
    "pi=3.14159\n",
    "print(pi,type(pi))"
   ]
  },
  {
   "cell_type": "markdown",
   "id": "719e8d3d-96a3-4c8b-80f9-af356f2e882b",
   "metadata": {
    "id": "9fb19f0d"
   },
   "source": [
    "---\n",
    "\n",
    "### Exercise 26:\n",
    "Create two variables `length` and `width`, assign them values, and calculate the area of a rectangle.\n",
    "\n",
    "```python\n",
    "# Exercise 26\n",
    "```"
   ]
  },
  {
   "cell_type": "code",
   "execution_count": 56,
   "id": "18cc63c1-6105-4134-a93a-754a8814cc1a",
   "metadata": {},
   "outputs": [
    {
     "name": "stdout",
     "output_type": "stream",
     "text": [
      "6\n"
     ]
    }
   ],
   "source": [
    "L= 2\n",
    "W= 6\n",
    "A= 1/2 *L*W\n",
    "print(int(A))"
   ]
  },
  {
   "cell_type": "markdown",
   "id": "8a718ae8-4240-4712-8551-e882dedc8471",
   "metadata": {
    "id": "9fb19f0d"
   },
   "source": [
    "---\n",
    "\n",
    "### Exercise 27:\n",
    "Assign a negative number to a variable `negative_value`.\n",
    "\n",
    "```python\n",
    "# Exercise 27\n",
    "```"
   ]
  },
  {
   "cell_type": "code",
   "execution_count": 57,
   "id": "f5d851db-3cc8-419f-8730-b830ff14914a",
   "metadata": {},
   "outputs": [
    {
     "name": "stdout",
     "output_type": "stream",
     "text": [
      "-56\n"
     ]
    }
   ],
   "source": [
    "negative_value=-56\n",
    "print(negative_value)"
   ]
  },
  {
   "cell_type": "markdown",
   "id": "b861c6ea-ed3f-49eb-99c9-8d34dbee7397",
   "metadata": {
    "id": "9fb19f0d"
   },
   "source": [
    "---\n",
    "\n",
    "### Exercise 28:\n",
    "Assign a string containing a special character (e.g., \"Hello, World!\") to a variable `greeting`.\n",
    "\n",
    "```python\n",
    "# Exercise 28\n",
    "```"
   ]
  },
  {
   "cell_type": "code",
   "execution_count": 58,
   "id": "33efae02-3660-440d-a3a9-a62dd765b9b5",
   "metadata": {},
   "outputs": [
    {
     "name": "stdout",
     "output_type": "stream",
     "text": [
      "Hello,Dan.\n"
     ]
    }
   ],
   "source": [
    "greeting= ('Hello,Dan.')\n",
    "print(greeting)"
   ]
  },
  {
   "cell_type": "markdown",
   "id": "0650e386-1b41-4c1e-8a76-3954f5cba8e6",
   "metadata": {
    "id": "9fb19f0d"
   },
   "source": [
    "---\n",
    "\n",
    "### Exercise 29:\n",
    "Create a variable `population` and assign it a large integer value (in billions).\n",
    "\n",
    "```python\n",
    "# Exercise 29\n",
    "```"
   ]
  },
  {
   "cell_type": "code",
   "execution_count": 59,
   "id": "fe926a4d-fde8-4e06-ac87-320533329202",
   "metadata": {},
   "outputs": [
    {
     "name": "stdout",
     "output_type": "stream",
     "text": [
      "2000000\n"
     ]
    }
   ],
   "source": [
    "population= 2000000\n",
    "print(population)"
   ]
  },
  {
   "cell_type": "markdown",
   "id": "3dbe1fbb-dcce-435b-a2cc-94ed62b52d4a",
   "metadata": {
    "id": "9fb19f0d"
   },
   "source": [
    "---\n",
    "\n",
    "### Exercise 30:\n",
    "Use a variable to store the result of raising `2` to the power of `8`.\n",
    "\n",
    "```python\n",
    "# Exercise 30\n",
    "```"
   ]
  },
  {
   "cell_type": "code",
   "execution_count": 61,
   "id": "0435f892-23b4-408a-911f-88e4e87a9652",
   "metadata": {},
   "outputs": [
    {
     "name": "stdout",
     "output_type": "stream",
     "text": [
      "256\n"
     ]
    }
   ],
   "source": [
    "p= 2**8\n",
    "print(p)"
   ]
  },
  {
   "cell_type": "markdown",
   "id": "bc4efa1b-4cb2-4b69-bd25-035ec6dcae87",
   "metadata": {
    "id": "9fb19f0d"
   },
   "source": [
    "---\n",
    "\n",
    "### Exercise 31:\n",
    "Assign a list of your favorite fruits to a variable `fruits`.\n",
    "\n",
    "```python\n",
    "# Exercise 31\n",
    "```"
   ]
  },
  {
   "cell_type": "code",
   "execution_count": 65,
   "id": "206f088c-4597-4e72-a367-05c15194f542",
   "metadata": {},
   "outputs": [
    {
     "name": "stdout",
     "output_type": "stream",
     "text": [
      "('mango', 'pinapple', 'Ovacado', 'Oranges')\n"
     ]
    }
   ],
   "source": [
    "fruits= 'mango','pinapple','Ovacado','Oranges'\n",
    "print (fruits)"
   ]
  },
  {
   "cell_type": "code",
   "execution_count": 66,
   "id": "5ec7a1df-a35a-43f4-b23f-dc872f3b3c09",
   "metadata": {},
   "outputs": [
    {
     "data": {
      "text/plain": [
       "tuple"
      ]
     },
     "execution_count": 66,
     "metadata": {},
     "output_type": "execute_result"
    }
   ],
   "source": [
    "type(fruits)"
   ]
  },
  {
   "cell_type": "markdown",
   "id": "137868e4-3294-4678-be14-7a56919e5e3e",
   "metadata": {
    "id": "9fb19f0d"
   },
   "source": [
    "---\n",
    "\n",
    "### Exercise 32:\n",
    "Assign a tuple of three numbers to a variable `coordinates`.\n",
    "\n",
    "```python\n",
    "# Exercise 32\n",
    "```"
   ]
  },
  {
   "cell_type": "code",
   "execution_count": 1,
   "id": "5078fe2d-e3a7-4894-b992-1465137f3fa6",
   "metadata": {},
   "outputs": [
    {
     "name": "stdout",
     "output_type": "stream",
     "text": [
      "(10, 20, 30)\n"
     ]
    }
   ],
   "source": [
    "coordinates= (10,20,30)\n",
    "print(coordinates)"
   ]
  },
  {
   "cell_type": "markdown",
   "id": "4b9d6e2a-fe83-4d83-865d-705fd72d740b",
   "metadata": {
    "id": "9fb19f0d"
   },
   "source": [
    "---\n",
    "\n",
    "### Exercise 33:\n",
    "Assign a dictionary with keys `name` and `age` to a variable `person`.\n",
    "\n",
    "```python\n",
    "# Exercise 33\n",
    "```"
   ]
  },
  {
   "cell_type": "code",
   "execution_count": 11,
   "id": "486321b6-c929-4d71-b6b3-94fcc942d4ab",
   "metadata": {},
   "outputs": [
    {
     "name": "stdout",
     "output_type": "stream",
     "text": [
      "('name', 'obua', 'age', 24)\n"
     ]
    }
   ],
   "source": [
    "person= ('name', 'obua','age',24) \n",
    "print(person)"
   ]
  },
  {
   "cell_type": "markdown",
   "id": "00e68110-3761-4414-b119-56b37376bba6",
   "metadata": {
    "id": "9fb19f0d"
   },
   "source": [
    "---\n",
    "\n",
    "### Exercise 34:\n",
    "Use variables to store the sum of two floating-point numbers.\n",
    "\n",
    "```python\n",
    "# Exercise 34\n",
    "```\n",
    "\n",
    "---\n",
    "\n",
    "### Exercise 35:\n",
    "Create a variable `is_sunny` and assign it the result of a comparison `10 > 5`.\n",
    "\n",
    "```python\n",
    "# Exercise 35\n",
    "```\n",
    "\n",
    "---\n",
    "\n",
    "### Exercise 36:\n",
    "Assign a string and an integer to two different variables, then print both on one line.\n",
    "\n",
    "```python\n",
    "# Exercise 36\n",
    "```\n",
    "\n",
    "---\n",
    "\n",
    "### Exercise 37:\n",
    "Reassign a variable that originally held a number to a boolean value.\n",
    "\n",
    "```python\n",
    "# Exercise 37\n",
    "```\n",
    "\n",
    "---\n",
    "\n",
    "### Exercise 38:\n",
    "Create a variable `is_weekend` and assign it the result of `False`.\n",
    "\n",
    "```python\n",
    "# Exercise 38\n",
    "```\n",
    "\n",
    "---\n",
    "\n",
    "### Exercise 39:\n",
    "Assign a multi-line string to a variable `description`.\n",
    "\n",
    "```python\n",
    "# Exercise 39\n",
    "```\n",
    "\n",
    "---\n",
    "\n",
    "### Exercise 40:\n",
    "Use variables to store the result of the absolute value of `-25`.\n",
    "\n",
    "```python\n",
    "# Exercise 40\n",
    "```\n",
    "\n",
    "---\n",
    "\n",
    "### Exercise 41:\n",
    "Assign the result of a floor division `100 // 6` to a variable `floor_div_result`.\n",
    "\n",
    "```python\n",
    "# Exercise 41\n",
    "```\n",
    "\n",
    "---\n",
    "\n",
    "### Exercise 42:\n",
    "Assign the result of adding a floating-point number to an integer to a variable `mixed_sum`.\n",
    "\n",
    "```python\n",
    "# Exercise 42\n",
    "```\n",
    "\n",
    "---\n",
    "\n",
    "\n",
    "### Exercise 43:\n",
    "Assign a boolean value based on the comparison of two variables `a = 10` and `b = 15`.\n",
    "\n",
    "```python\n",
    "# Exercise 43\n",
    "```\n",
    "\n",
    "---\n",
    "\n",
    "### Exercise 44:\n",
    "Assign a long sentence to a variable and count its characters using `len()`.\n",
    "\n",
    "```python\n",
    "# Exercise 44\n",
    "```\n",
    "\n",
    "---\n",
    "\n",
    "### Exercise 45:\n",
    "Assign a fractional result `7 / 3` to a variable `division_result`.\n",
    "\n",
    "```python\n",
    "# Exercise 45\n",
    "```\n",
    "\n",
    "---\n",
    "\n",
    "### Exercise 46:\n",
    "Create a variable `speed` and assign it the value of 100 kilometers per hour.\n",
    "\n",
    "```python\n",
    "# Exercise 46\n",
    "```\n",
    "\n",
    "---\n",
    "\n",
    "### Exercise 47:\n",
    "Assign a multi-variable equation like `y = 3x + 5` where `x = 4` to a variable `y`.\n",
    "\n",
    "```python\n",
    "# Exercise 47\n",
    "```\n",
    "\n",
    "---\n",
    "\n",
    "### Exercise 48:\n",
    "Use variables to calculate and store the average of three numbers.\n",
    "\n",
    "```python\n",
    "# Exercise 48\n",
    "```\n",
    "\n",
    "****"
   ]
  }
 ],
 "metadata": {
  "colab": {
   "provenance": []
  },
  "kernelspec": {
   "display_name": "Python [conda env:base] *",
   "language": "python",
   "name": "conda-base-py"
  },
  "language_info": {
   "codemirror_mode": {
    "name": "ipython",
    "version": 3
   },
   "file_extension": ".py",
   "mimetype": "text/x-python",
   "name": "python",
   "nbconvert_exporter": "python",
   "pygments_lexer": "ipython3",
   "version": "3.13.5"
  }
 },
 "nbformat": 4,
 "nbformat_minor": 5
}
